{
  "nbformat": 4,
  "nbformat_minor": 0,
  "metadata": {
    "colab": {
      "name": "AP.ipynb",
      "private_outputs": true,
      "provenance": [],
      "authorship_tag": "ABX9TyPpKcKQDH7WIfKBOfO3S/z8",
      "include_colab_link": true
    },
    "kernelspec": {
      "name": "python3",
      "display_name": "Python 3"
    },
    "language_info": {
      "name": "python"
    }
  },
  "cells": [
    {
      "cell_type": "markdown",
      "metadata": {
        "id": "view-in-github",
        "colab_type": "text"
      },
      "source": [
        "<a href=\"https://colab.research.google.com/github/Pranavvenkatcoder/Mithranpythonclass/blob/main/AP.ipynb\" target=\"_parent\"><img src=\"https://colab.research.google.com/assets/colab-badge.svg\" alt=\"Open In Colab\"/></a>"
      ]
    },
    {
      "cell_type": "code",
      "metadata": {
        "id": "I-PdoszKWNwl"
      },
      "source": [
        "a = float(input(\"Enter the first term : \"))\n",
        "d = float(input(\"Enter the difference : \"))\n",
        "for n in range(1,11):\n",
        "   print(a+(n-1)*b)"
      ],
      "execution_count": null,
      "outputs": []
    }
  ]
}