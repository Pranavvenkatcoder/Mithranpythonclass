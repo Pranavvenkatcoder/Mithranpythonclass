{
  "nbformat": 4,
  "nbformat_minor": 0,
  "metadata": {
    "colab": {
      "name": "Untitled11.ipynb",
      "private_outputs": true,
      "provenance": [],
      "authorship_tag": "ABX9TyNEiRaNOi0mLQLbUpdnQApA",
      "include_colab_link": true
    },
    "kernelspec": {
      "name": "python3",
      "display_name": "Python 3"
    },
    "language_info": {
      "name": "python"
    }
  },
  "cells": [
    {
      "cell_type": "markdown",
      "metadata": {
        "id": "view-in-github",
        "colab_type": "text"
      },
      "source": [
        "<a href=\"https://colab.research.google.com/github/Pranavvenkatcoder/Mithranpythonclass/blob/main/Untitled11.ipynb\" target=\"_parent\"><img src=\"https://colab.research.google.com/assets/colab-badge.svg\" alt=\"Open In Colab\"/></a>"
      ]
    },
    {
      "cell_type": "code",
      "metadata": {
        "id": "CS-wByOroEwk"
      },
      "source": [
        "print(\"Make your own lyrics\")\n",
        "Greeting = input(\"How do you call your friend?: \")\n",
        "Food = input(\"What is your favourite food?: \")\n",
        "Rate = input(\"How good is your song?: \")\n",
        "\n",
        "print(Greeting + \"boys!\")\n",
        "print(\"I am singing song\")\n",
        "print(Food + \"song\")\n",
        "print(Rate + \"song\")\n",
        "print(\"Why this kolaveri kolaveri kolaveri di\")\n",
        "print(\"Why this kolaveri kolaveri kolaveri\")"
      ],
      "execution_count": null,
      "outputs": []
    }
  ]
}